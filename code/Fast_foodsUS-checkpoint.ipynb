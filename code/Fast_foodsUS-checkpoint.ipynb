{
 "cells": [
  {
   "cell_type": "code",
   "execution_count": 1,
   "id": "6ee3f126",
   "metadata": {},
   "outputs": [],
   "source": [
    "# importing the dependencies\n",
    "import numpy as np \n",
    "import pandas as pd\n",
    "import seaborn as sns\n",
    "import geopandas as gpd\n",
    "import folium\n",
    "from folium import Choropleth, Circle, Marker\n",
    "from folium.plugins import HeatMap, MarkerCluster\n",
    "import math"
   ]
  },
  {
   "cell_type": "code",
   "execution_count": 2,
   "id": "a7002b13",
   "metadata": {},
   "outputs": [],
   "source": [
    "# importing the data into Pandas\n",
    "df = pd.read_csv(\"../data/Fast_Food_Restaurants_US.csv\")\n"
   ]
  },
  {
   "cell_type": "code",
   "execution_count": 3,
   "id": "a6b5949a",
   "metadata": {},
   "outputs": [],
   "source": [
    "# dropping the colums not required for the cluster map\n",
    "df_State= df.drop(columns=['Unnamed: 0','address','categories','city','country','postalCode','websites'])"
   ]
  },
  {
   "cell_type": "code",
   "execution_count": 4,
   "id": "521cc4dd",
   "metadata": {},
   "outputs": [],
   "source": [
    "# creating the map function\n",
    "map_cluster = folium.Map(location=[40,-94], tiles='cartodbpositron', zoom_start=4)\n",
    "\n",
    "# Add points to the map\n",
    "mc = MarkerCluster()\n",
    "# for loop to iterate over all the rows for the latitude and longitude\n",
    "for idx, row in df_State.iterrows():\n",
    "    if not math.isnan(row['longitude']) and not math.isnan(row['latitude']):\n",
    "        mc.add_child(Marker([row['latitude'], row['longitude']]))\n",
    "map_cluster.add_child(mc)\n",
    "# saving map file to a .html format\n",
    "map_cluster.save('map_cluster.html')"
   ]
  },
  {
   "cell_type": "code",
   "execution_count": null,
   "id": "a0b168af",
   "metadata": {},
   "outputs": [],
   "source": []
  },
  {
   "cell_type": "code",
   "execution_count": null,
   "id": "caa8ce0f",
   "metadata": {},
   "outputs": [],
   "source": []
  }
 ],
 "metadata": {
  "kernelspec": {
   "display_name": "Python [conda env:PythonData] *",
   "language": "python",
   "name": "conda-env-PythonData-py"
  },
  "language_info": {
   "codemirror_mode": {
    "name": "ipython",
    "version": 3
   },
   "file_extension": ".py",
   "mimetype": "text/x-python",
   "name": "python",
   "nbconvert_exporter": "python",
   "pygments_lexer": "ipython3",
   "version": "3.7.7"
  }
 },
 "nbformat": 4,
 "nbformat_minor": 5
}
